{
 "cells": [
  {
   "cell_type": "markdown",
   "id": "f0b76389",
   "metadata": {},
   "source": [
    "# Домашнее задание (10 баллов)\n",
    "\n",
    "1. (2 балла) Закончить реализацию `ClassificationDecisionTree` в decision_tree (реализовать feature_importance_, проверить корректность predict) и `RandomForestClassifier` в random_forest (predict/predict_proba). Обратите внимение, что в random_forest в качестве `base_estimator` предполагается использовать `DecisionTreeClassifier` из sklearn, использовать вашу реализацию решающего дерева необязательно. <br> Запуск тестов \n",
    "- `python -m unittest discover sem_dt_rf/decision_tree/tests`\n",
    "- `python -m unittest discover sem_dt_rf/random_forest/tests`\n",
    " "
   ]
  },
  {
   "cell_type": "code",
   "execution_count": null,
   "id": "53bab43d",
   "metadata": {},
   "outputs": [],
   "source": []
  },
  {
   "cell_type": "markdown",
   "id": "53eddec5",
   "metadata": {},
   "source": [
    "2. (1 балл) Для регрессионного дерева необходимо использовать такой критерий:\n",
    "    $$H(R) = \\min_c \\frac{1}{|R|} \\sum_{(x_i, y_i) \\in R} (y_i - c)^2$$\n",
    "    \n",
    "    Докажите, что минимум H(R) достигается при $c$:\n",
    "\n",
    "    $$ c = \\frac{1}{|R|} \\sum_{(x_j, y_j) \\in R} y_j$$"
   ]
  },
  {
   "cell_type": "code",
   "execution_count": null,
   "id": "d6f61378",
   "metadata": {},
   "outputs": [],
   "source": []
  },
  {
   "cell_type": "markdown",
   "id": "d9489841",
   "metadata": {},
   "source": [
    "3. (3 балла) Реализуйте регрессионное дерево. В качестве критерия необходимо использовать критерий, определённый в пункте 2. В качестве функции выдачи результатов необходимо использовать среднее значение ответов по всем объектам в листе.\n",
    "\n",
    "    Сгенерируйте однопризнаковую выборку для тестирования дерева и покажите работу дерева на этой выборке (пример см. ниже, можно использовать свою версию). Отобразите на одном графике значения алгоритма и точки. Что меняется при изменении параметра глубины? Сделайте выводы."
   ]
  },
  {
   "cell_type": "code",
   "execution_count": 8,
   "id": "0478e72c",
   "metadata": {},
   "outputs": [],
   "source": [
    "import numpy as np\n",
    "import matplotlib.pyplot as plt\n",
    "%matplotlib inline"
   ]
  },
  {
   "cell_type": "code",
   "execution_count": 19,
   "id": "9a498c0b",
   "metadata": {},
   "outputs": [],
   "source": [
    "# generate example\n",
    "x_shape = 300\n",
    "x = np.arange(x_shape) / 100\n",
    "y = x**3 * np.sin(x**3) + np.random.random(x_shape)"
   ]
  },
  {
   "cell_type": "code",
   "execution_count": 20,
   "id": "05e27e10",
   "metadata": {},
   "outputs": [
    {
     "data": {
      "image/png": "[encoded data removed]",
      "text/plain": [
       "<Figure size 640x480 with 1 Axes>"
      ]
     },
     "metadata": {},
     "output_type": "display_data"
    }
   ],
   "source": [
    "plt.scatter(x, y)\n",
    "plt.grid()\n",
    "plt.show()"
   ]
  },
  {
   "cell_type": "markdown",
   "id": "7dd31212",
   "metadata": {},
   "source": [
    "4. (4 балла) Протестируйте различные реализации `random_forest` на `fetch_covtype` датасете (можно загрузить с помощью `sklearn.datasets.fetch_covtype`). Возможно, поможет ноутбук с семинара `ensembles_seminar.ipynb`. Для честного сравнения старайтесь использовать похожий набор гиперпараметров.\n",
    "- ваша реализация (import `RandomForestClassifier as MyRandomForestClassifier` ниже)\n",
    "- sklearn https://scikit-learn.org/stable/modules/generated/sklearn.ensemble.RandomForestClassifier.html\n",
    "- lightgbm https://lightgbm.readthedocs.io/en/latest/pythonapi/lightgbm.LGBMModel.html см. параметр `boosting_type`\n",
    "- xgboost https://xgboost.readthedocs.io/en/stable/tutorials/rf.html\n",
    "\n",
    "    Что нужно сделать: \n",
    "- Разбейте данные на train и test. \n",
    "- Оцените качество алгоритмов по метрике (balanced_accuracy_score)[https://scikit-learn.org/stable/modules/generated/sklearn.metrics.balanced_accuracy_score.html]\n",
    "- Оцените время работы `train` и `predict`\n",
    "- Сделайте выводы"
   ]
  },
  {
   "cell_type": "code",
   "execution_count": 1,
   "id": "71b3a264",
   "metadata": {},
   "outputs": [],
   "source": [
    "import sys\n",
    "sys.path.extend(['/Users/alkrasnov/Documents/AM_ML_2_24']) # change your path"
   ]
  },
  {
   "cell_type": "code",
   "execution_count": 2,
   "id": "1c3f2f4c",
   "metadata": {},
   "outputs": [],
   "source": [
    "from sem_dt_rf.random_forest.random_forest import RandomForestClassifier as MyRandomForestClassifier"
   ]
  },
  {
   "cell_type": "code",
   "execution_count": 3,
   "id": "5f7369f8",
   "metadata": {},
   "outputs": [],
   "source": [
    "from sklearn.datasets import fetch_covtype\n",
    "from sklearn.ensemble import RandomForestClassifier\n",
    "from sklearn.metrics import balanced_accuracy_score\n",
    "from sklearn.model_selection import train_test_split\n",
    "import lightgbm as lgb\n",
    "import xgboost as xgb"
   ]
  },
  {
   "cell_type": "code",
   "execution_count": 4,
   "id": "f6f94db3",
   "metadata": {},
   "outputs": [],
   "source": [
    "cov_type = fetch_covtype()"
   ]
  },
  {
   "cell_type": "code",
   "execution_count": 24,
   "id": "5643ae5b",
   "metadata": {},
   "outputs": [],
   "source": [
    "x_train, x_test, y_train, y_test = train_test_split(...)"
   ]
  },
  {
   "cell_type": "code",
   "execution_count": null,
   "id": "d9fda0a1",
   "metadata": {},
   "outputs": [],
   "source": []
  }
 ],
 "metadata": {
  "kernelspec": {
   "display_name": "Python 3 (ipykernel)",
   "language": "python",
   "name": "python3"
  },
  "language_info": {
   "codemirror_mode": {
    "name": "ipython",
    "version": 3
   },
   "file_extension": ".py",
   "mimetype": "text/x-python",
   "name": "python",
   "nbconvert_exporter": "python",
   "pygments_lexer": "ipython3",
   "version": "3.10.12"
  }
 },
 "nbformat": 4,
 "nbformat_minor": 5
}

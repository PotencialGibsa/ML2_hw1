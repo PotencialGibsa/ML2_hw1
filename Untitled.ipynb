{
 "cells": [
  {
   "cell_type": "code",
   "execution_count": 1,
   "id": "5a93fbfc-363b-4a76-9ac1-e62f17433471",
   "metadata": {},
   "outputs": [],
   "source": [
    "import numpy as np"
   ]
  },
  {
   "cell_type": "code",
   "execution_count": 8,
   "id": "472cc707-8241-4dcb-a256-8f8a7b0b1576",
   "metadata": {},
   "outputs": [],
   "source": [
    "a = np.array([1,1,3])"
   ]
  },
  {
   "cell_type": "code",
   "execution_count": 6,
   "id": "bac0729b-a95b-4ac2-9ff2-0d3e2b107d48",
   "metadata": {},
   "outputs": [
    {
     "data": {
      "text/plain": [
       "array([1, 3])"
      ]
     },
     "execution_count": 6,
     "metadata": {},
     "output_type": "execute_result"
    }
   ],
   "source": [
    "np.unique(a)"
   ]
  },
  {
   "cell_type": "code",
   "execution_count": 10,
   "id": "3fa99b49-2e74-466b-ac69-25e115742f34",
   "metadata": {},
   "outputs": [
    {
     "data": {
      "text/plain": [
       "array([1, 1])"
      ]
     },
     "execution_count": 10,
     "metadata": {},
     "output_type": "execute_result"
    }
   ],
   "source": [
    "a[a == 1]"
   ]
  },
  {
   "cell_type": "code",
   "execution_count": 5,
   "id": "5fe4b7be-c7b5-427e-9c38-19980abcaa25",
   "metadata": {},
   "outputs": [],
   "source": [
    "mask = np.array([True, True, False])"
   ]
  },
  {
   "cell_type": "code",
   "execution_count": 6,
   "id": "be20c1ee-a6b0-4e62-8ab5-f70178c93771",
   "metadata": {},
   "outputs": [
    {
     "data": {
      "text/plain": [
       "array([False, False,  True])"
      ]
     },
     "execution_count": 6,
     "metadata": {},
     "output_type": "execute_result"
    }
   ],
   "source": [
    "~mask"
   ]
  },
  {
   "cell_type": "code",
   "execution_count": 8,
   "id": "ac2b8c79-cf30-47e2-8570-fffdd60c05a9",
   "metadata": {},
   "outputs": [
    {
     "data": {
      "text/plain": [
       "array([0., 0., 0., 0., 0., 0., 0., 0., 0., 0.])"
      ]
     },
     "execution_count": 8,
     "metadata": {},
     "output_type": "execute_result"
    }
   ],
   "source": [
    "np.zeros(10)"
   ]
  },
  {
   "cell_type": "code",
   "execution_count": 2,
   "id": "46fa1399-78d1-4678-8359-baea32e75021",
   "metadata": {},
   "outputs": [],
   "source": [
    "a = np.array([[6.14533432, 5.98780499, 4.52840449],\n",
    " [6.71063753, 5.83854461, 6.33608762],\n",
    " [4.12717527, 5.59850329, 5.59197489],\n",
    " [4.77186384, 6.09967252, 6.54305773],\n",
    " [5.59072999, 3.86497362, 4.75346752],\n",
    " [4.3624049,  4.54915597, 4.45077312]])"
   ]
  },
  {
   "cell_type": "code",
   "execution_count": 3,
   "id": "2e02f8a1-ab94-4e4d-a807-6eb77b015e9a",
   "metadata": {},
   "outputs": [
    {
     "data": {
      "text/plain": [
       "array([[0.61453343, 0.5987805 , 0.45284045],\n",
       "       [0.67106375, 0.58385446, 0.63360876],\n",
       "       [0.41271753, 0.55985033, 0.55919749],\n",
       "       [0.47718638, 0.60996725, 0.65430577],\n",
       "       [0.559073  , 0.38649736, 0.47534675],\n",
       "       [0.43624049, 0.4549156 , 0.44507731]])"
      ]
     },
     "execution_count": 3,
     "metadata": {},
     "output_type": "execute_result"
    }
   ],
   "source": [
    "a / 10"
   ]
  },
  {
   "cell_type": "code",
   "execution_count": 4,
   "id": "a3f1c97a-e922-4751-bf4e-97fd1e6067e8",
   "metadata": {},
   "outputs": [],
   "source": [
    "a = a/10"
   ]
  },
  {
   "cell_type": "code",
   "execution_count": 5,
   "id": "2c6b0de3-c1ac-4c86-9f25-d4be84dd8beb",
   "metadata": {},
   "outputs": [
    {
     "data": {
      "text/plain": [
       "array([[0.61453343, 0.5987805 , 0.45284045],\n",
       "       [0.67106375, 0.58385446, 0.63360876],\n",
       "       [0.41271753, 0.55985033, 0.55919749],\n",
       "       [0.47718638, 0.60996725, 0.65430577],\n",
       "       [0.559073  , 0.38649736, 0.47534675],\n",
       "       [0.43624049, 0.4549156 , 0.44507731]])"
      ]
     },
     "execution_count": 5,
     "metadata": {},
     "output_type": "execute_result"
    }
   ],
   "source": [
    "a"
   ]
  },
  {
   "cell_type": "code",
   "execution_count": null,
   "id": "e842ec46-79e4-42b7-bbe9-04ba1086382e",
   "metadata": {},
   "outputs": [],
   "source": []
  }
 ],
 "metadata": {
  "kernelspec": {
   "display_name": "Python 3 (ipykernel)",
   "language": "python",
   "name": "python3"
  },
  "language_info": {
   "codemirror_mode": {
    "name": "ipython",
    "version": 3
   },
   "file_extension": ".py",
   "mimetype": "text/x-python",
   "name": "python",
   "nbconvert_exporter": "python",
   "pygments_lexer": "ipython3",
   "version": "3.11.7"
  }
 },
 "nbformat": 4,
 "nbformat_minor": 5
}

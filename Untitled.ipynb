{
 "cells": [
  {
   "cell_type": "code",
   "execution_count": 26,
   "id": "5a93fbfc-363b-4a76-9ac1-e62f17433471",
   "metadata": {},
   "outputs": [],
   "source": [
    "import numpy as np"
   ]
  },
  {
   "cell_type": "code",
   "execution_count": 8,
   "id": "472cc707-8241-4dcb-a256-8f8a7b0b1576",
   "metadata": {},
   "outputs": [],
   "source": [
    "a = np.array([1,1,3])"
   ]
  },
  {
   "cell_type": "code",
   "execution_count": 6,
   "id": "bac0729b-a95b-4ac2-9ff2-0d3e2b107d48",
   "metadata": {},
   "outputs": [
    {
     "data": {
      "text/plain": [
       "array([1, 3])"
      ]
     },
     "execution_count": 6,
     "metadata": {},
     "output_type": "execute_result"
    }
   ],
   "source": [
    "np.unique(a)"
   ]
  },
  {
   "cell_type": "code",
   "execution_count": 10,
   "id": "3fa99b49-2e74-466b-ac69-25e115742f34",
   "metadata": {},
   "outputs": [
    {
     "data": {
      "text/plain": [
       "array([1, 1])"
      ]
     },
     "execution_count": 10,
     "metadata": {},
     "output_type": "execute_result"
    }
   ],
   "source": [
    "a[a == 1]"
   ]
  },
  {
   "cell_type": "code",
   "execution_count": 5,
   "id": "5fe4b7be-c7b5-427e-9c38-19980abcaa25",
   "metadata": {},
   "outputs": [],
   "source": [
    "mask = np.array([True, True, False])"
   ]
  },
  {
   "cell_type": "code",
   "execution_count": 6,
   "id": "be20c1ee-a6b0-4e62-8ab5-f70178c93771",
   "metadata": {},
   "outputs": [
    {
     "data": {
      "text/plain": [
       "array([False, False,  True])"
      ]
     },
     "execution_count": 6,
     "metadata": {},
     "output_type": "execute_result"
    }
   ],
   "source": [
    "~mask"
   ]
  },
  {
   "cell_type": "code",
   "execution_count": 8,
   "id": "ac2b8c79-cf30-47e2-8570-fffdd60c05a9",
   "metadata": {},
   "outputs": [
    {
     "data": {
      "text/plain": [
       "array([0., 0., 0., 0., 0., 0., 0., 0., 0., 0.])"
      ]
     },
     "execution_count": 8,
     "metadata": {},
     "output_type": "execute_result"
    }
   ],
   "source": [
    "np.zeros(10)"
   ]
  },
  {
   "cell_type": "code",
   "execution_count": 2,
   "id": "46fa1399-78d1-4678-8359-baea32e75021",
   "metadata": {},
   "outputs": [],
   "source": [
    "a = np.array([[6.14533432, 5.98780499, 4.52840449],\n",
    " [6.71063753, 5.83854461, 6.33608762],\n",
    " [4.12717527, 5.59850329, 5.59197489],\n",
    " [4.77186384, 6.09967252, 6.54305773],\n",
    " [5.59072999, 3.86497362, 4.75346752],\n",
    " [4.3624049,  4.54915597, 4.45077312]])"
   ]
  },
  {
   "cell_type": "code",
   "execution_count": 3,
   "id": "2e02f8a1-ab94-4e4d-a807-6eb77b015e9a",
   "metadata": {},
   "outputs": [
    {
     "data": {
      "text/plain": [
       "array([[0.61453343, 0.5987805 , 0.45284045],\n",
       "       [0.67106375, 0.58385446, 0.63360876],\n",
       "       [0.41271753, 0.55985033, 0.55919749],\n",
       "       [0.47718638, 0.60996725, 0.65430577],\n",
       "       [0.559073  , 0.38649736, 0.47534675],\n",
       "       [0.43624049, 0.4549156 , 0.44507731]])"
      ]
     },
     "execution_count": 3,
     "metadata": {},
     "output_type": "execute_result"
    }
   ],
   "source": [
    "a / 10"
   ]
  },
  {
   "cell_type": "code",
   "execution_count": 4,
   "id": "a3f1c97a-e922-4751-bf4e-97fd1e6067e8",
   "metadata": {},
   "outputs": [],
   "source": [
    "a = a/10"
   ]
  },
  {
   "cell_type": "code",
   "execution_count": 5,
   "id": "2c6b0de3-c1ac-4c86-9f25-d4be84dd8beb",
   "metadata": {},
   "outputs": [
    {
     "data": {
      "text/plain": [
       "array([[0.61453343, 0.5987805 , 0.45284045],\n",
       "       [0.67106375, 0.58385446, 0.63360876],\n",
       "       [0.41271753, 0.55985033, 0.55919749],\n",
       "       [0.47718638, 0.60996725, 0.65430577],\n",
       "       [0.559073  , 0.38649736, 0.47534675],\n",
       "       [0.43624049, 0.4549156 , 0.44507731]])"
      ]
     },
     "execution_count": 5,
     "metadata": {},
     "output_type": "execute_result"
    }
   ],
   "source": [
    "a"
   ]
  },
  {
   "cell_type": "code",
   "execution_count": 4,
   "id": "e842ec46-79e4-42b7-bbe9-04ba1086382e",
   "metadata": {},
   "outputs": [
    {
     "data": {
      "text/plain": [
       "array([1, 1, 9])"
      ]
     },
     "execution_count": 4,
     "metadata": {},
     "output_type": "execute_result"
    }
   ],
   "source": [
    "a **2"
   ]
  },
  {
   "cell_type": "code",
   "execution_count": 6,
   "id": "e1880885-e158-41ad-a630-749a2fdf1508",
   "metadata": {},
   "outputs": [
    {
     "data": {
      "text/plain": [
       "(3,)"
      ]
     },
     "execution_count": 6,
     "metadata": {},
     "output_type": "execute_result"
    }
   ],
   "source": [
    "a"
   ]
  },
  {
   "cell_type": "code",
   "execution_count": 9,
   "id": "b85e9912-431f-4f89-8e0a-17f5b66574ac",
   "metadata": {},
   "outputs": [
    {
     "data": {
      "text/plain": [
       "array([2, 3, 6])"
      ]
     },
     "execution_count": 9,
     "metadata": {},
     "output_type": "execute_result"
    }
   ],
   "source": [
    "a + [1,2,3]"
   ]
  },
  {
   "cell_type": "code",
   "execution_count": 12,
   "id": "07bde3bc-33af-43d5-a9f1-a9926b3333e2",
   "metadata": {},
   "outputs": [],
   "source": [
    "target = np.array([1,2,3,4])\n",
    "pred = 0.6"
   ]
  },
  {
   "cell_type": "code",
   "execution_count": 13,
   "id": "1686a072-ba12-438c-9622-ab9d6be0191a",
   "metadata": {},
   "outputs": [
    {
     "data": {
      "text/plain": [
       "array([0.49, 0.04, 0.09, 0.64])"
      ]
     },
     "execution_count": 13,
     "metadata": {},
     "output_type": "execute_result"
    }
   ],
   "source": [
    "(np.array([pred]) * len(target) - target)**2 / len(target)"
   ]
  },
  {
   "cell_type": "code",
   "execution_count": 18,
   "id": "5f77169e-254b-4aaa-90df-265fe32a1f45",
   "metadata": {},
   "outputs": [
    {
     "data": {
      "text/plain": [
       "5.040000000000001"
      ]
     },
     "execution_count": 18,
     "metadata": {},
     "output_type": "execute_result"
    }
   ],
   "source": [
    "(np.array([pred]) * len(target) - target) @ (np.array([pred]) * len(target) - target)"
   ]
  },
  {
   "cell_type": "code",
   "execution_count": 20,
   "id": "138ee8ff-f759-4026-8024-547840a21206",
   "metadata": {},
   "outputs": [
    {
     "data": {
      "text/plain": [
       "array([0.22, 2.71, 2.04, 0.42, 0.18, 2.96, 0.87, 0.31, 1.09, 0.74, 2.4 ,\n",
       "       0.73, 2.71, 1.46, 1.82, 2.06, 0.42, 0.67, 2.07, 1.34, 2.65, 1.32,\n",
       "       0.29, 2.34, 0.88, 0.91, 0.57, 0.49, 2.76, 1.84, 1.75, 2.88, 0.77,\n",
       "       0.57, 1.96, 1.86, 2.64, 0.47, 1.35, 1.38, 0.9 , 0.86, 2.72, 2.81,\n",
       "       1.61, 0.95, 0.03, 1.78, 1.19, 0.61, 1.78, 0.54, 2.58, 1.23, 1.22,\n",
       "       2.77, 2.51, 1.26, 0.04, 1.16, 2.79, 2.68, 2.92, 2.87, 2.33, 1.43,\n",
       "       1.67, 2.8 , 0.62, 0.42, 1.77, 0.75, 1.76, 0.01, 2.25, 1.1 , 1.27,\n",
       "       2.35, 2.3 , 2.01, 1.07, 1.05, 1.45, 2.61, 1.02, 0.32, 2.83, 1.79,\n",
       "       0.83, 2.81, 0.94, 2.16, 2.76, 2.46, 0.93, 2.54, 2.64, 2.19, 2.17,\n",
       "       2.66, 1.08, 1.1 , 1.09, 2.12, 1.75, 0.99, 0.43, 0.08, 0.94, 0.  ,\n",
       "       0.41, 1.94, 0.87, 1.18, 2.97, 1.77, 0.97, 1.94, 1.62, 1.56, 2.72,\n",
       "       1.17, 2.01, 1.24, 2.83, 0.21, 0.09, 1.93, 2.68, 0.59, 1.84, 0.8 ,\n",
       "       0.78, 0.81, 2.4 , 1.97, 1.17, 1.72, 1.17, 1.04, 2.66, 0.35, 1.06,\n",
       "       0.65, 1.5 , 2.46, 2.15, 0.21, 1.24, 0.17, 2.91, 0.35, 0.08, 0.52,\n",
       "       2.11, 2.15, 0.03, 2.95, 0.22, 1.39, 2.55, 0.88, 0.92, 2.9 , 2.02,\n",
       "       0.69, 2.16, 1.4 , 0.36, 1.64, 0.53, 1.23, 0.56, 1.88, 0.65, 1.54,\n",
       "       3.  , 0.65, 0.56, 1.42, 2.97, 0.64, 0.44, 2.14, 1.06, 1.1 , 1.8 ,\n",
       "       1.09, 2.24, 0.12, 2.67, 0.49, 1.97, 1.86, 0.24, 1.04, 1.95, 0.08,\n",
       "       0.07, 2.75, 1.37, 0.67, 1.24, 1.47, 0.84, 0.79, 2.25, 2.51, 0.82,\n",
       "       1.87, 0.31, 1.84, 1.75, 1.77, 2.92, 2.19, 1.16, 1.7 , 0.13, 1.18,\n",
       "       1.26, 2.65, 0.16, 2.86, 2.81, 1.08, 2.24, 0.56, 2.72, 0.49, 0.9 ,\n",
       "       2.49, 0.9 , 1.8 , 1.28, 2.22, 1.26, 1.89, 0.81, 2.92, 1.  , 0.23,\n",
       "       2.73, 2.7 , 2.18, 0.05, 2.87, 2.44, 1.82, 0.12, 2.09, 1.04, 2.79,\n",
       "       2.43, 1.09, 0.98, 1.46, 2.24, 0.65, 0.64, 1.7 , 0.08, 2.13, 2.66,\n",
       "       0.36, 0.79, 1.66, 0.17, 2.17, 2.83, 2.14, 2.42, 2.22, 2.96, 2.64,\n",
       "       0.78, 1.13, 1.49, 2.9 , 0.1 , 1.61, 2.39, 2.22, 1.06, 1.49, 2.34,\n",
       "       1.62, 2.  , 1.98, 2.57, 1.48, 1.03, 0.17, 2.89, 0.66, 0.39, 2.65,\n",
       "       2.  , 0.1 , 1.47])"
      ]
     },
     "execution_count": 20,
     "metadata": {},
     "output_type": "execute_result"
    }
   ],
   "source": [
    "np.round(np.random.uniform(0, 3, 300),2)"
   ]
  },
  {
   "cell_type": "code",
   "execution_count": 30,
   "id": "f6d4d020-84e4-417c-b9cb-9dda4da6e679",
   "metadata": {},
   "outputs": [
    {
     "data": {
      "text/plain": [
       "-1"
      ]
     },
     "execution_count": 30,
     "metadata": {},
     "output_type": "execute_result"
    }
   ],
   "source": [
    "np.random.choice([1,-1])"
   ]
  },
  {
   "cell_type": "code",
   "execution_count": 34,
   "id": "11a8c77f-3bf5-42e8-b45c-ee7ed80c5a86",
   "metadata": {},
   "outputs": [
    {
     "data": {
      "text/plain": [
       "-0.17992130888765823"
      ]
     },
     "execution_count": 34,
     "metadata": {},
     "output_type": "execute_result"
    }
   ],
   "source": [
    "np.random.random()-1"
   ]
  },
  {
   "cell_type": "code",
   "execution_count": null,
   "id": "150b1abf-0325-497f-a29f-78e7ce5e9b93",
   "metadata": {},
   "outputs": [],
   "source": []
  }
 ],
 "metadata": {
  "kernelspec": {
   "display_name": "Python 3 (ipykernel)",
   "language": "python",
   "name": "python3"
  },
  "language_info": {
   "codemirror_mode": {
    "name": "ipython",
    "version": 3
   },
   "file_extension": ".py",
   "mimetype": "text/x-python",
   "name": "python",
   "nbconvert_exporter": "python",
   "pygments_lexer": "ipython3",
   "version": "3.10.12"
  }
 },
 "nbformat": 4,
 "nbformat_minor": 5
}
